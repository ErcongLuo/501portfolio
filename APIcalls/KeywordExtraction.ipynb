{
 "cells": [
  {
   "cell_type": "markdown",
   "metadata": {},
   "source": [
    "# Keyword Extraction using News Articles\n",
    "\n",
    "#newsapi #KeywordExtraction #ElectricVehicles #CO2Emissions\n",
    "\n",
    "The goal of this document is to extract keywords \n",
    "that are associated with the environmental downsides \n",
    "of an electric vehicle that are covered in mainstream\n",
    "media sources. The API used here is for newsapi.org."
   ]
  },
  {
   "cell_type": "code",
   "execution_count": 2,
   "metadata": {},
   "outputs": [],
   "source": [
    "from newsapi import NewsApiClient\n",
    "import datetime as dt\n",
    "import pandas as pd\n",
    "\n",
    "my_api_key = \"fea5c56a315742a8bcc16a4c19a1b31e\""
   ]
  },
  {
   "cell_type": "code",
   "execution_count": 10,
   "metadata": {},
   "outputs": [],
   "source": [
    "newsapi = NewsApiClient(api_key = my_api_key)\n",
    "data = newsapi.get_everything(q = \"(electric vehicles OR EV OR EVs) AND (carbon footprint OR CO2 Emissions)\", language = 'en', page_size = 20)"
   ]
  },
  {
   "cell_type": "code",
   "execution_count": 11,
   "metadata": {},
   "outputs": [
    {
     "data": {
      "text/plain": [
       "dict_keys(['status', 'totalResults', 'articles'])"
      ]
     },
     "execution_count": 11,
     "metadata": {},
     "output_type": "execute_result"
    }
   ],
   "source": [
    "data.keys()"
   ]
  },
  {
   "cell_type": "markdown",
   "metadata": {},
   "source": [
    "## The structure of the pulled dataset is as follows:"
   ]
  },
  {
   "cell_type": "markdown",
   "metadata": {},
   "source": [
    "The _data_ object is a dictionary with keys {'status', 'totalResults', 'articles'}."
   ]
  },
  {
   "cell_type": "code",
   "execution_count": 19,
   "metadata": {},
   "outputs": [
    {
     "name": "stdout",
     "output_type": "stream",
     "text": [
      "<class 'dict'> dict_keys(['status', 'totalResults', 'articles'])\n"
     ]
    }
   ],
   "source": [
    "print(type(data), data.keys())"
   ]
  },
  {
   "cell_type": "markdown",
   "metadata": {},
   "source": [
    "For example, it can be checked using the 'status' key that my search went as wished, and the number of search results is given by:"
   ]
  },
  {
   "cell_type": "code",
   "execution_count": 23,
   "metadata": {},
   "outputs": [
    {
     "name": "stdout",
     "output_type": "stream",
     "text": [
      "True 1781\n"
     ]
    }
   ],
   "source": [
    "print(data['status'] == 'ok', data['totalResults'])"
   ]
  },
  {
   "cell_type": "markdown",
   "metadata": {},
   "source": [
    "As for all these datasets, it will be helpful to gather the text data into a data frame \n",
    "to prep for some data cleaning and later on, clustering. As can be seen below, the articles\n",
    "are stored in a list of dictionaries:"
   ]
  },
  {
   "cell_type": "code",
   "execution_count": 24,
   "metadata": {},
   "outputs": [
    {
     "name": "stdout",
     "output_type": "stream",
     "text": [
      "<class 'list'> <class 'dict'>\n"
     ]
    }
   ],
   "source": [
    "print(type(data['articles']), type(data['articles'][0]))"
   ]
  },
  {
   "cell_type": "markdown",
   "metadata": {},
   "source": [
    "Below are some good information about the storage structure for each article:"
   ]
  },
  {
   "cell_type": "code",
   "execution_count": 26,
   "metadata": {},
   "outputs": [
    {
     "name": "stdout",
     "output_type": "stream",
     "text": [
      "{'source': {'id': 'techcrunch', 'name': 'TechCrunch'}, 'author': 'Walter Thompson', 'title': 'EV charging solutions will become an asset, not a liability, to the grid', 'description': 'Although wireless charging is still relatively new to the market, the benefits are beginning to become glaringly self-evident.', 'url': 'http://techcrunch.com/2021/08/31/ev-charging-solutions-will-become-an-asset-not-a-liability-to-the-grid/', 'urlToImage': 'https://techcrunch.com/wp-content/uploads/2021/08/GettyImages-1219328171.jpg?w=600', 'publishedAt': '2021-08-31T14:30:08Z', 'content': 'President Joe Biden’s plan for electric vehicles (EVs) to comprise roughly half of U.S. sales by 2030 is a clear indication that the U.S. is making strides in decarbonizing its transportation systems… [+8883 chars]'}\n",
      "dict_keys(['source', 'author', 'title', 'description', 'url', 'urlToImage', 'publishedAt', 'content'])\n"
     ]
    }
   ],
   "source": [
    "print(data['articles'][0])\n",
    "print(data['articles'][0].keys())"
   ]
  },
  {
   "cell_type": "markdown",
   "metadata": {},
   "source": [
    "It can be seen above that each article has attributes:\n",
    "{'source', 'author', 'title', 'description', 'url', \n",
    "'urlToImage', 'publishedAt', 'content'}\n",
    "\n",
    "- These variables will be relevant and kept: source, title, publishedAt, content\n",
    "- _source_ could reveal media bias\n",
    "- _title_ is important content\n",
    "- _publishedAt_ is important because EV production technologies are evolving fast, an article from too long ago is not applicable for today\n",
    "- _content_ must be kept for analysis"
   ]
  },
  {
   "cell_type": "markdown",
   "metadata": {},
   "source": [
    "# Below is the process for data cleaning the news dataset"
   ]
  },
  {
   "cell_type": "code",
   "execution_count": null,
   "metadata": {},
   "outputs": [],
   "source": []
  },
  {
   "cell_type": "code",
   "execution_count": null,
   "metadata": {},
   "outputs": [],
   "source": []
  },
  {
   "cell_type": "code",
   "execution_count": null,
   "metadata": {},
   "outputs": [],
   "source": []
  },
  {
   "cell_type": "code",
   "execution_count": null,
   "metadata": {},
   "outputs": [],
   "source": []
  },
  {
   "cell_type": "code",
   "execution_count": null,
   "metadata": {},
   "outputs": [],
   "source": []
  },
  {
   "cell_type": "code",
   "execution_count": null,
   "metadata": {},
   "outputs": [],
   "source": []
  },
  {
   "cell_type": "code",
   "execution_count": null,
   "metadata": {},
   "outputs": [],
   "source": []
  },
  {
   "cell_type": "code",
   "execution_count": null,
   "metadata": {},
   "outputs": [],
   "source": []
  }
 ],
 "metadata": {
  "kernelspec": {
   "display_name": "Python 3",
   "language": "python",
   "name": "python3"
  },
  "language_info": {
   "codemirror_mode": {
    "name": "ipython",
    "version": 3
   },
   "file_extension": ".py",
   "mimetype": "text/x-python",
   "name": "python",
   "nbconvert_exporter": "python",
   "pygments_lexer": "ipython3",
   "version": "3.8.3"
  }
 },
 "nbformat": 4,
 "nbformat_minor": 2
}
